{
  "cells": [
    {
      "cell_type": "raw",
      "metadata": {},
      "source": [
        "---\n",
        "title: \"\"\n",
        "---"
      ],
      "id": "a0d5fa2b"
    },
    {
      "cell_type": "markdown",
      "metadata": {},
      "source": [
        "# Gruppenzuweisung\n",
        "\n",
        "Ich habe für meine Seminare ein kleines Programm geschrieben, welches Studierenden(gruppen) zu Seminarthemen zuordnet, indem es die Rankings, die die Studierenden den Themen geben, optimiert.\n",
        "\n",
        "\n",
        "```{html}\n",
        "<style>\n",
        "    #myFrame { width:100%; height:100%; }\n",
        "</style>\n",
        "\n",
        "<iframe src=\"html_intro.asp\" id=\"myFrame\">\n",
        "<p>Hi SOF</p>\n",
        "</iframe>\n",
        "\n",
        "```"
      ],
      "id": "38de55b9"
    }
  ],
  "metadata": {
    "kernelspec": {
      "display_name": "Python 3",
      "language": "python",
      "name": "python3"
    }
  },
  "nbformat": 4,
  "nbformat_minor": 5
}